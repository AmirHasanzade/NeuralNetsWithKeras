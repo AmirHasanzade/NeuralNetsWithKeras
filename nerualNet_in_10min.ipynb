{
  "nbformat": 4,
  "nbformat_minor": 0,
  "metadata": {
    "colab": {
      "name": "Copy of nerualNet-in-10min.ipynb",
      "provenance": [],
      "include_colab_link": true
    },
    "kernelspec": {
      "name": "python3",
      "display_name": "Python 3"
    }
  },
  "cells": [
    {
      "cell_type": "markdown",
      "metadata": {
        "id": "view-in-github",
        "colab_type": "text"
      },
      "source": [
        "<a href=\"https://colab.research.google.com/github/AmirHasanzade/NeuralNetsWithKeras/blob/main/nerualNet_in_10min.ipynb\" target=\"_parent\"><img src=\"https://colab.research.google.com/assets/colab-badge.svg\" alt=\"Open In Colab\"/></a>"
      ]
    },
    {
      "cell_type": "code",
      "metadata": {
        "id": "NBeqawmbdzRx"
      },
      "source": [
        "#importing tensorflow\n",
        "import tensorflow as tf\n",
        "\n",
        "#importing keras from tensorflow to make the neural nets\n",
        "from tensorflow import keras\n",
        "\n",
        "#Neural net\n",
        "model = tf.keras.Sequential([keras.layers.Dense(units=1,input_shape=[1])])\n",
        "model.compile(optimizer='sgd',loss='mean_squared_error')\n",
        "\n",
        "#Input Data\n",
        "num_of_flats = (1,2,3,4,5,6,7)\n",
        "price_of_house = (10000,20000,30000,40000,50000,60000,70000)\n",
        "\n",
        "#Training Neural Net\n",
        "model.fit(num_of_flats,price_of_house,epochs = 100)\n",
        "\n",
        "#Predicting the price of a house with 10 flats\n",
        "print(model.predict([10.0]))"
      ],
      "execution_count": null,
      "outputs": []
    }
  ]
}